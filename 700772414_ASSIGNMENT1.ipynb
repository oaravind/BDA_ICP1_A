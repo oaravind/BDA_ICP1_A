{
  "nbformat": 4,
  "nbformat_minor": 0,
  "metadata": {
    "colab": {
      "provenance": [],
      "authorship_tag": "ABX9TyMI5mbqRMoyVPA+i6gM9dWV",
      "include_colab_link": true
    },
    "kernelspec": {
      "name": "python3",
      "display_name": "Python 3"
    },
    "language_info": {
      "name": "python"
    }
  },
  "cells": [
    {
      "cell_type": "markdown",
      "metadata": {
        "id": "view-in-github",
        "colab_type": "text"
      },
      "source": [
        "<a href=\"https://colab.research.google.com/github/oaravind/BDA_ICP1_A/blob/main/700772414_ASSIGNMENT1.ipynb\" target=\"_parent\"><img src=\"https://colab.research.google.com/assets/colab-badge.svg\" alt=\"Open In Colab\"/></a>"
      ]
    },
    {
      "cell_type": "markdown",
      "source": [
        "ARAVIND_ORUGANTI       (700772414)"
      ],
      "metadata": {
        "id": "E3jgNmm76dYq"
      }
    },
    {
      "cell_type": "markdown",
      "source": [
        "a)Input the string “Python” as a list of characters from console, delete at least 2\n",
        "characters, reversetheresultant string, and print it."
      ],
      "metadata": {
        "id": "_XVvjnli25-x"
      }
    },
    {
      "cell_type": "code",
      "source": [
        "input_string = input(\"Enter the string: \")\n",
        "char_list = list(input_string)\n",
        "if len(char_list) >= 4:\n",
        "    del char_list[3]\n",
        "    del char_list[1]\n",
        "else:\n",
        "    print(\"String too short to delete 2 characters.\")\n",
        "    exit()\n",
        "char_list.reverse()\n",
        "print(\"\".join(char_list))"
      ],
      "metadata": {
        "colab": {
          "base_uri": "https://localhost:8080/"
        },
        "id": "93IykP6h3IKk",
        "outputId": "88ca18bb-cf17-48ee-b2f2-714643801191"
      },
      "execution_count": 1,
      "outputs": [
        {
          "output_type": "stream",
          "name": "stdout",
          "text": [
            "Enter the string: aravind\n",
            "dniaa\n"
          ]
        }
      ]
    },
    {
      "cell_type": "markdown",
      "source": [
        "b)Take two numbers from user and perform at least 4 arithmetic operations on them."
      ],
      "metadata": {
        "id": "VzsujQ1731bh"
      }
    },
    {
      "cell_type": "code",
      "source": [
        "n1 = float(input(\"Enter the first number: \"))\n",
        "n2 = float(input(\"Enter the second number: \"))\n",
        "addition = n1 + n2\n",
        "subtraction = n1 - n2\n",
        "multiplication = n1 * n2\n",
        "if n2 != 0:\n",
        "    division = n1 / n2\n",
        "else:\n",
        "    division = \"Undefined (cannot divide by zero)\"\n",
        "print(f\"Addition: {n1} + {n2} = {addition}\")\n",
        "print(f\"Subtraction: {n1} - {n2} = {subtraction}\")\n",
        "print(f\"Multiplication: {n1} * {n2} = {multiplication}\")\n",
        "print(f\"Division: {n1} / {n2} = {division}\")\n"
      ],
      "metadata": {
        "colab": {
          "base_uri": "https://localhost:8080/"
        },
        "id": "XBebW96I33ST",
        "outputId": "e73df86f-3f5e-48d5-99a8-95223ea26877"
      },
      "execution_count": 2,
      "outputs": [
        {
          "output_type": "stream",
          "name": "stdout",
          "text": [
            "Enter the first number: 25\n",
            "Enter the second number: 35\n",
            "Addition: 25.0 + 35.0 = 60.0\n",
            "Subtraction: 25.0 - 35.0 = -10.0\n",
            "Multiplication: 25.0 * 35.0 = 875.0\n",
            "Division: 25.0 / 35.0 = 0.7142857142857143\n"
          ]
        }
      ]
    },
    {
      "cell_type": "markdown",
      "source": [
        "Write a program that accepts a sentence and replace each occurrence of ‘python’ with\n",
        "‘pythons’."
      ],
      "metadata": {
        "id": "OpRxm4RZ4eTg"
      }
    },
    {
      "cell_type": "code",
      "source": [
        "s = input(\"Enter a sentence: \")\n",
        "updated_sentence = s.replace('python', 'pythons')\n",
        "print(\"Updated sentence:\", updated_sentence)"
      ],
      "metadata": {
        "colab": {
          "base_uri": "https://localhost:8080/"
        },
        "id": "mt19OFSH4fkV",
        "outputId": "a507b46c-5f23-4ac8-b856-d77e7601b47a"
      },
      "execution_count": 3,
      "outputs": [
        {
          "output_type": "stream",
          "name": "stdout",
          "text": [
            "Enter a sentence: •I love playing with python\n",
            "Updated sentence: •I love playing with pythons\n"
          ]
        }
      ]
    },
    {
      "cell_type": "markdown",
      "source": [
        "Use the if statement conditionsto write a program to print the letter grade based on\n",
        "an input class score. Use the grading scheme we are using in this class."
      ],
      "metadata": {
        "id": "YH8o89Zv5Js-"
      }
    },
    {
      "cell_type": "code",
      "source": [
        "score = float(input(\"Enter your class score (0–100): \"))\n",
        "if score >= 90 and score <= 100:\n",
        "    grade = 'A'\n",
        "elif score >= 80:\n",
        "    grade = 'B'\n",
        "elif score >= 70:\n",
        "    grade = 'C'\n",
        "elif score >= 60:\n",
        "    grade = 'D'\n",
        "elif score >= 0:\n",
        "    grade = 'F'\n",
        "else:\n",
        "    grade = 'Invalid score'\n",
        "print(\"Your grade is:\", grade)"
      ],
      "metadata": {
        "colab": {
          "base_uri": "https://localhost:8080/"
        },
        "id": "HtvdS0fG5Lm1",
        "outputId": "d5a2e272-66bc-4025-b123-d4fa4b966a80"
      },
      "execution_count": 4,
      "outputs": [
        {
          "output_type": "stream",
          "name": "stdout",
          "text": [
            "Enter your class score (0–100): 90\n",
            "Your grade is: A\n"
          ]
        }
      ]
    },
    {
      "cell_type": "markdown",
      "source": [
        "Write a code that appends the type of elements from a given list.\n",
        "Input\n",
        "x = [23, ‘Python’, 23.98]\n",
        "Expected output\n",
        "[23, 'Python', 23.98]\n",
        "[<class 'int'>, <class 'str'>, <class 'float'>]"
      ],
      "metadata": {
        "id": "1WEDanPr5jP6"
      }
    },
    {
      "cell_type": "code",
      "source": [
        "x = [23, 'Python', 23.98]\n",
        "types = [type(item) for item in x]\n",
        "print(x)\n",
        "print(types)"
      ],
      "metadata": {
        "colab": {
          "base_uri": "https://localhost:8080/"
        },
        "id": "x7gNNPnF5kYc",
        "outputId": "b125918f-97ff-4503-d62b-4a56f022c3cb"
      },
      "execution_count": 5,
      "outputs": [
        {
          "output_type": "stream",
          "name": "stdout",
          "text": [
            "[23, 'Python', 23.98]\n",
            "[<class 'int'>, <class 'str'>, <class 'float'>]\n"
          ]
        }
      ]
    },
    {
      "cell_type": "markdown",
      "source": [
        "IT_companies = {'Facebook', 'Google', 'Microsoft', 'Apple', 'IBM', 'Oracle', 'Amazon'}\n",
        "A = {19, 22, 24, 20, 25, 26}\n",
        "B = {19, 22, 20, 25, 26, 24, 28, 27}\n",
        "age = [22, 19, 24, 25, 26, 24, 25, 24]\n",
        "• Find the length of the set IT_companies\n",
        "• Add 'Twitter' to IT_companies\n",
        "• Insert multiple IT companies at once to the set IT_companies\n",
        "• Remove one of the companies from the set IT_companies\n",
        "• What is the difference between remove and discard\n",
        "• Join A and B\n",
        "• Find A intersection B\n",
        "• Is A subset of B\n",
        "• Are A and B disjoint sets\n",
        "• Join A with B and B with A\n",
        "• What is the symmetric difference between A and B\n",
        "• Delete the sets completely\n",
        "• Convert the ages to a set and compare the length of the list and the set."
      ],
      "metadata": {
        "id": "LhqZOgVf54ax"
      }
    },
    {
      "cell_type": "code",
      "source": [
        "IT_companies = {'Facebook', 'Google', 'Microsoft', 'Apple', 'IBM', 'Oracle', 'Amazon'}\n",
        "A = {19, 22, 24, 20, 25, 26}\n",
        "B = {19, 22, 20, 25, 26, 24, 28, 27}\n",
        "age = [22, 19, 24, 25, 26, 24, 25, 24]\n",
        "\n",
        "# 1.\n",
        "print(\"Length of IT_companies:\", len(IT_companies))\n",
        "\n",
        "# 2.\n",
        "IT_companies.add('Twitter')\n",
        "print(\"After adding Twitter:\", IT_companies)\n",
        "\n",
        "# 3.\n",
        "IT_companies.update(['LinkedIn', 'Snapchat', 'Tesla'])\n",
        "print(\"After adding multiple companies:\", IT_companies)\n",
        "\n",
        "# 4.\n",
        "IT_companies.remove('Oracle')\n",
        "print(\"After removing 'Oracle':\", IT_companies)\n",
        "\n",
        "# 5.\n",
        "try:\n",
        "    IT_companies.remove('NotACompany')  # This will raise an error\n",
        "except KeyError:\n",
        "    print(\"Using remove: KeyError if the element is not present.\")\n",
        "\n",
        "IT_companies.discard('NotACompany')  # No error\n",
        "print(\"Using discard: No error if the element is not present.\")\n",
        "\n",
        "# 6.\n",
        "print(\"A union B:\", A.union(B))\n",
        "\n",
        "# 7.\n",
        "print(\"A intersection B:\", A.intersection(B))\n",
        "\n",
        "# 8.\n",
        "print(\"Is A subset of B:\", A.issubset(B))\n",
        "\n",
        "# 9.\n",
        "print(\"Are A and B disjoint sets:\", A.isdisjoint(B))\n",
        "\n",
        "# 10.\n",
        "print(\"A union B (A | B):\", A | B)\n",
        "print(\"B union A (B | A):\", B | A)\n",
        "\n",
        "# 11.\n",
        "print(\"Symmetric difference (A ^ B):\", A.symmetric_difference(B))\n",
        "\n",
        "# 12.\n",
        "del IT_companies\n",
        "del A\n",
        "del B\n",
        "\n",
        "# 13.\n",
        "age_set = set(age)\n",
        "print(\"Original age list length:\", len(age))\n",
        "print(\"Set of ages length:\", len(age_set))\n"
      ],
      "metadata": {
        "colab": {
          "base_uri": "https://localhost:8080/"
        },
        "id": "aUm-vuDn563F",
        "outputId": "2b358481-65a9-437b-9980-0b4eff02b459"
      },
      "execution_count": 6,
      "outputs": [
        {
          "output_type": "stream",
          "name": "stdout",
          "text": [
            "Length of IT_companies: 7\n",
            "After adding Twitter: {'Amazon', 'IBM', 'Facebook', 'Twitter', 'Oracle', 'Microsoft', 'Apple', 'Google'}\n",
            "After adding multiple companies: {'IBM', 'Snapchat', 'LinkedIn', 'Amazon', 'Google', 'Apple', 'Oracle', 'Tesla', 'Facebook', 'Twitter', 'Microsoft'}\n",
            "After removing 'Oracle': {'IBM', 'Snapchat', 'LinkedIn', 'Amazon', 'Google', 'Apple', 'Tesla', 'Facebook', 'Twitter', 'Microsoft'}\n",
            "Using remove: KeyError if the element is not present.\n",
            "Using discard: No error if the element is not present.\n",
            "A union B: {19, 20, 22, 24, 25, 26, 27, 28}\n",
            "A intersection B: {19, 20, 22, 24, 25, 26}\n",
            "Is A subset of B: True\n",
            "Are A and B disjoint sets: False\n",
            "A union B (A | B): {19, 20, 22, 24, 25, 26, 27, 28}\n",
            "B union A (B | A): {19, 20, 22, 24, 25, 26, 27, 28}\n",
            "Symmetric difference (A ^ B): {27, 28}\n",
            "Original age list length: 8\n",
            "Set of ages length: 5\n"
          ]
        }
      ]
    },
    {
      "cell_type": "markdown",
      "source": [
        "https://drive.google.com/file/d/1khawGq60odJPk-RcK52eUZv7q1bfVPSD/view?usp=drive_link"
      ],
      "metadata": {
        "id": "rNKfCRYS_TOX"
      }
    }
  ]
}