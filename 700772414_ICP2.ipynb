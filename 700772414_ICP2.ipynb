{
  "nbformat": 4,
  "nbformat_minor": 0,
  "metadata": {
    "colab": {
      "provenance": [],
      "authorship_tag": "ABX9TyO/XUDhcN0HRxXJZhW/OUGx",
      "include_colab_link": true
    },
    "kernelspec": {
      "name": "python3",
      "display_name": "Python 3"
    },
    "language_info": {
      "name": "python"
    }
  },
  "cells": [
    {
      "cell_type": "markdown",
      "metadata": {
        "id": "view-in-github",
        "colab_type": "text"
      },
      "source": [
        "<a href=\"https://colab.research.google.com/github/oaravind/BDA_ICP1_A/blob/main/700772414_ICP2.ipynb\" target=\"_parent\"><img src=\"https://colab.research.google.com/assets/colab-badge.svg\" alt=\"Open In Colab\"/></a>"
      ]
    },
    {
      "cell_type": "markdown",
      "source": [
        "Tasks:\n",
        "• Explain the difference between Counter.count and self._count.\n"
      ],
      "metadata": {
        "id": "WrBcnGP0HLHQ"
      }
    },
    {
      "cell_type": "markdown",
      "source": [
        "Counter.count is a class variable this usually refers to a class attribute or property that is accessed via the class itself.\n",
        "\n",
        "self._count is an instance variable Unique to each instance of the class.Modifying it affects only that specific instance."
      ],
      "metadata": {
        "id": "HZqsk4vnHzQg"
      }
    },
    {
      "cell_type": "markdown",
      "source": [
        "What is the output of a.get_counts() and b.get_counts()?"
      ],
      "metadata": {
        "id": "qy2ArdesJDKl"
      }
    },
    {
      "cell_type": "code",
      "source": [
        "class Counter:\n",
        "    count = 0\n",
        "    def __init__(self):\n",
        "        self._count = 0\n",
        "    def increment(self):\n",
        "        self._count += 1\n",
        "        Counter.count += 1\n",
        "    def get_counts(self):\n",
        "        return f\"Instance count: {self._count}, Class count: {Counter.count}\"\n",
        "a = Counter()\n",
        "b = Counter()\n",
        "a.increment()\n",
        "a.increment()\n",
        "b.increment()\n",
        "print(a.get_counts())\n",
        "print(b.get_counts())"
      ],
      "metadata": {
        "colab": {
          "base_uri": "https://localhost:8080/"
        },
        "id": "0Rr9U5R0IKIk",
        "outputId": "ebf61d5c-581c-46c2-83a2-3ff04aca586a"
      },
      "execution_count": 2,
      "outputs": [
        {
          "output_type": "stream",
          "name": "stdout",
          "text": [
            "Instance count: 2, Class count: 3\n",
            "Instance count: 1, Class count: 3\n"
          ]
        }
      ]
    },
    {
      "cell_type": "markdown",
      "source": [
        "How does the increment method affect both the class and instance variables?"
      ],
      "metadata": {
        "id": "ywElA1GXKB5p"
      }
    },
    {
      "cell_type": "markdown",
      "source": [
        "Every call to increment() increases the instance’s _count by 1, it increases the shared class-level count by 1, regardless of which instance called it.\n",
        "\n",
        "example:\n",
        "def increment(self):\n",
        "    self._count += 1        \n",
        "    Counter.count += 1     \n"
      ],
      "metadata": {
        "id": "pgi0gQo7KO6t"
      }
    },
    {
      "cell_type": "markdown",
      "source": [
        "2)Find and remove the bug from the code to obtain the given output\n",
        "def sum_all(args):\n",
        "    return sum(args)\n",
        "\n",
        "print(\"Sum of 1, 2, 3 is:\", sum_all(1, 2, 3))\n",
        "print(\"Sum of 4, 5, 6, 7 is:\", sum_all(4, 5, 6, 7))\n",
        "\n",
        "output:\n",
        "Sum of 1, 2, 3 is: 6  \n",
        "Sum of 4, 5, 6, 7 is: 22\n"
      ],
      "metadata": {
        "id": "PGBZ4PkqK8Bb"
      }
    },
    {
      "cell_type": "code",
      "source": [
        "def sum_all(*args):\n",
        "    return sum(args)\n",
        "\n",
        "print(\"Sum of 1, 2, 3 is:\", sum_all(1, 2, 3))\n",
        "print(\"Sum of 4, 5, 6, 7 is:\", sum_all(4, 5, 6, 7))"
      ],
      "metadata": {
        "colab": {
          "base_uri": "https://localhost:8080/"
        },
        "id": "zHnnX1krLMVO",
        "outputId": "6ff07d98-43f2-4b1c-c86a-03c79ed503a3"
      },
      "execution_count": 3,
      "outputs": [
        {
          "output_type": "stream",
          "name": "stdout",
          "text": [
            "Sum of 1, 2, 3 is: 6\n",
            "Sum of 4, 5, 6, 7 is: 22\n"
          ]
        }
      ]
    },
    {
      "cell_type": "markdown",
      "source": [
        "3. Write a function called first_word that takes a list of character strings as input and returns the first\n",
        "element of the list in alphabetical order. For example, your function should work like this:\n",
        "students = ['Mary', 'Zelda', 'Jimmy', 'Jack', 'Bartholomew', 'Gertrude'] (Input)\n",
        "first_word(students) (Function)\n",
        "'Bartholomew' (Output)\n",
        "Hint: You’ll need to first sort your list in the function to accomplish this, then identify the first element. Within a\n",
        "function, it is a good idea to use multiple lines of code to separate out the different steps. Just make sure all the code\n",
        "that belongs to the function is indented!\n"
      ],
      "metadata": {
        "id": "FtjLAB3ELddu"
      }
    },
    {
      "cell_type": "code",
      "source": [
        "def first_word(words):\n",
        "    sorted_words = sorted(words)\n",
        "    return sorted_words[0]\n",
        "\n",
        "students = ['Mary', 'Zelda', 'Jimmy', 'Jack', 'Bartholomew', 'Gertrude']\n",
        "print(first_word(students))\n"
      ],
      "metadata": {
        "colab": {
          "base_uri": "https://localhost:8080/"
        },
        "id": "l5Nf1s1gLfE3",
        "outputId": "c9b95832-1d0b-4793-9533-8bf0d4ccdf88"
      },
      "execution_count": 4,
      "outputs": [
        {
          "output_type": "stream",
          "name": "stdout",
          "text": [
            "Bartholomew\n"
          ]
        }
      ]
    },
    {
      "cell_type": "markdown",
      "source": [
        "4. Create a class Employee and then do the following\n",
        "• Create a data member to count the number of Employees\n",
        "• Create a constructor to initialize name, family, salary, department\n",
        "• Create a function to average salary\n",
        "• Create a Fulltime Employee class and it should inherit the properties of Employee class\n",
        "• Create the instances of Fulltime Employee class and Employee class and call their member functions.\n"
      ],
      "metadata": {
        "id": "XV8DAnUcMUXJ"
      }
    },
    {
      "cell_type": "code",
      "source": [
        "class Employee:\n",
        "    employee_count = 0\n",
        "    salary_list = []\n",
        "\n",
        "    def __init__(self, name, family, salary, department):\n",
        "        self.name = name\n",
        "        self.family = family\n",
        "        self.salary = salary\n",
        "        self.department = department\n",
        "        Employee.employee_count += 1\n",
        "        Employee.salary_list.append(salary)\n",
        "\n",
        "    def average_salary(self):\n",
        "        if Employee.salary_list:\n",
        "            return sum(Employee.salary_list) / len(Employee.salary_list)\n",
        "        return 0\n",
        "class FulltimeEmployee(Employee):\n",
        "    pass\n",
        "e1 = Employee(\"Aravind\", \"oruganti\", 50000, \"HR\")\n",
        "e2 = FulltimeEmployee(\"Srinivas\", \"Gorantla\", 60000, \"Engineering\")\n",
        "e3 = FulltimeEmployee(\"Gowtham\", \"Darsi\", 70000, \"Finance\")\n",
        "print(\"Total Employees:\", Employee.employee_count)\n",
        "print(\"Average Salary:\", e1.average_salary())\n",
        "print(f\"{e1.name}, {e1.department}\")\n",
        "print(f\"{e2.name}, {e2.department}\")\n",
        "print(f\"{e3.name}, {e3.department}\")\n"
      ],
      "metadata": {
        "colab": {
          "base_uri": "https://localhost:8080/"
        },
        "id": "aVrSX3HJMRmg",
        "outputId": "a96659a7-3ddc-45fe-e1c2-6728fd889f93"
      },
      "execution_count": 5,
      "outputs": [
        {
          "output_type": "stream",
          "name": "stdout",
          "text": [
            "Total Employees: 3\n",
            "Average Salary: 60000.0\n",
            "Aravind, HR\n",
            "Srinivas, Engineering\n",
            "Gowtham, Finance\n"
          ]
        }
      ]
    },
    {
      "cell_type": "markdown",
      "source": [
        "https://drive.google.com/file/d/1rBkzD3kLNJgsXWRCyUsj3u8b09N3J4MH/view?usp=sharing"
      ],
      "metadata": {
        "id": "EbWym9QyLKXu"
      }
    }
  ]
}